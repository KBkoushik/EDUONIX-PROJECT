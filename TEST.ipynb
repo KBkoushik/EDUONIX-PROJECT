{
 "cells": [
  {
   "cell_type": "code",
   "execution_count": 2,
   "id": "494b7dbd",
   "metadata": {},
   "outputs": [
    {
     "name": "stdout",
     "output_type": "stream",
     "text": [
      "\n",
      "Welcome to the Basic Library Management System!\n",
      "\n",
      "1. Display Available Books\n",
      "2. Borrow a Book\n",
      "3. Return a Book\n",
      "4. Exit\n",
      "\n",
      "Enter your choice (1-4): 3\n",
      "Enter the title of the book you want to return: Book1\n",
      "Enter the quantity you want to return: 1\n",
      "You have returned 1 copy(ies) of Book1.\n",
      "\n",
      "Welcome to the Basic Library Management System!\n",
      "\n",
      "1. Display Available Books\n",
      "2. Borrow a Book\n",
      "3. Return a Book\n",
      "4. Exit\n",
      "\n",
      "Enter your choice (1-4): 1\n",
      "\n",
      "Available Books:\n",
      "1. Book1 - 6 available\n",
      "2. Book2 - 3 available\n",
      "3. Book3 - 7 available\n",
      "4. Book4 - 2 available\n",
      "5. Book5 - 4 available\n",
      "\n",
      "Welcome to the Basic Library Management System!\n",
      "\n",
      "1. Display Available Books\n",
      "2. Borrow a Book\n",
      "3. Return a Book\n",
      "4. Exit\n",
      "\n",
      "Enter your choice (1-4): 4\n",
      "\n",
      "Exiting the Library Management System. Thank you!\n"
     ]
    }
   ],
   "source": [
    "library_inventory = {\n",
    "    'Book1': 5,\n",
    "    'Book2': 3,\n",
    "    'Book3': 7,\n",
    "    'Book4': 2,\n",
    "    'Book5': 4\n",
    "}\n",
    "\n",
    "def display_books():\n",
    "    print(\"\\nAvailable Books:\")\n",
    "    for i, (title, quantity) in enumerate(library_inventory.items(), 1):\n",
    "        print(f\"{i}. {title} - {quantity} available\")\n",
    "\n",
    "def borrow_book():\n",
    "    title = input(\"Enter the title of the book you want to borrow: \")\n",
    "    if title in library_inventory:\n",
    "        quantity = int(input(\"Enter the quantity you want to borrow: \"))\n",
    "        if quantity <= library_inventory[title]:\n",
    "            library_inventory[title] -= quantity\n",
    "            print(f\"You have borrowed {quantity} copy(ies) of {title}.\")\n",
    "        else:\n",
    "            print(f\"Sorry, only {library_inventory[title]} copy(ies) of {title} available.\")\n",
    "    else:\n",
    "        print(f\"Book with title '{title}' not found in the inventory.\")\n",
    "\n",
    "def return_book():\n",
    "    title = input(\"Enter the title of the book you want to return: \")\n",
    "    if title in library_inventory:\n",
    "        quantity = int(input(\"Enter the quantity you want to return: \"))\n",
    "        library_inventory[title] += quantity\n",
    "        print(f\"You have returned {quantity} copy(ies) of {title}.\")\n",
    "    else:\n",
    "        print(f\"Book with title '{title}' not found in the inventory.\")\n",
    "\n",
    "while True:\n",
    "    print(\"\\nWelcome to the Basic Library Management System!\\n\")\n",
    "    print(\"1. Display Available Books\")\n",
    "    print(\"2. Borrow a Book\")\n",
    "    print(\"3. Return a Book\")\n",
    "    print(\"4. Exit\\n\")\n",
    "\n",
    "    choice = input(\"Enter your choice (1-4): \")\n",
    "\n",
    "    if choice == '1':\n",
    "        display_books()\n",
    "    elif choice == '2':\n",
    "        borrow_book()\n",
    "    elif choice == '3':\n",
    "        return_book()\n",
    "    elif choice == '4':\n",
    "        print(\"\\nExiting the Library Management System. Thank you!\")\n",
    "        break\n",
    "    else:\n",
    "        print(\"\\nInvalid choice. Please enter a number between 1 and 4.\")\n"
   ]
  },
  {
   "cell_type": "code",
   "execution_count": null,
   "id": "7e74d5d9",
   "metadata": {},
   "outputs": [],
   "source": []
  },
  {
   "cell_type": "code",
   "execution_count": null,
   "id": "bad03155",
   "metadata": {},
   "outputs": [],
   "source": []
  },
  {
   "cell_type": "code",
   "execution_count": null,
   "id": "40ea7d44",
   "metadata": {},
   "outputs": [],
   "source": []
  },
  {
   "cell_type": "code",
   "execution_count": null,
   "id": "d5cdfefd",
   "metadata": {},
   "outputs": [],
   "source": []
  },
  {
   "cell_type": "code",
   "execution_count": null,
   "id": "2e0e2174",
   "metadata": {},
   "outputs": [],
   "source": []
  },
  {
   "cell_type": "code",
   "execution_count": null,
   "id": "ea6d11df",
   "metadata": {},
   "outputs": [],
   "source": []
  },
  {
   "cell_type": "code",
   "execution_count": null,
   "id": "d0fa3ddc",
   "metadata": {},
   "outputs": [],
   "source": []
  },
  {
   "cell_type": "code",
   "execution_count": null,
   "id": "ecbb9978",
   "metadata": {},
   "outputs": [],
   "source": []
  },
  {
   "cell_type": "code",
   "execution_count": null,
   "id": "eb539e79",
   "metadata": {},
   "outputs": [],
   "source": []
  },
  {
   "cell_type": "code",
   "execution_count": null,
   "id": "d01a5954",
   "metadata": {},
   "outputs": [],
   "source": []
  },
  {
   "cell_type": "code",
   "execution_count": null,
   "id": "8295bbbf",
   "metadata": {},
   "outputs": [],
   "source": []
  },
  {
   "cell_type": "code",
   "execution_count": null,
   "id": "25e9bcf9",
   "metadata": {},
   "outputs": [],
   "source": []
  },
  {
   "cell_type": "code",
   "execution_count": null,
   "id": "ede73670",
   "metadata": {},
   "outputs": [],
   "source": []
  },
  {
   "cell_type": "code",
   "execution_count": null,
   "id": "cf405d82",
   "metadata": {},
   "outputs": [],
   "source": []
  },
  {
   "cell_type": "code",
   "execution_count": null,
   "id": "0445a267",
   "metadata": {},
   "outputs": [],
   "source": []
  },
  {
   "cell_type": "code",
   "execution_count": null,
   "id": "f56f83ba",
   "metadata": {},
   "outputs": [],
   "source": []
  },
  {
   "cell_type": "code",
   "execution_count": null,
   "id": "89d67c62",
   "metadata": {},
   "outputs": [],
   "source": []
  },
  {
   "cell_type": "code",
   "execution_count": null,
   "id": "ebb08090",
   "metadata": {},
   "outputs": [],
   "source": []
  },
  {
   "cell_type": "code",
   "execution_count": null,
   "id": "061537a8",
   "metadata": {},
   "outputs": [],
   "source": []
  },
  {
   "cell_type": "code",
   "execution_count": null,
   "id": "604b73b9",
   "metadata": {},
   "outputs": [],
   "source": []
  },
  {
   "cell_type": "code",
   "execution_count": null,
   "id": "d57aeb2f",
   "metadata": {},
   "outputs": [],
   "source": []
  },
  {
   "cell_type": "code",
   "execution_count": null,
   "id": "59cc5ce8",
   "metadata": {},
   "outputs": [],
   "source": []
  },
  {
   "cell_type": "code",
   "execution_count": null,
   "id": "fd0a7d06",
   "metadata": {},
   "outputs": [],
   "source": []
  }
 ],
 "metadata": {
  "kernelspec": {
   "display_name": "Python 3",
   "language": "python",
   "name": "python3"
  },
  "language_info": {
   "codemirror_mode": {
    "name": "ipython",
    "version": 3
   },
   "file_extension": ".py",
   "mimetype": "text/x-python",
   "name": "python",
   "nbconvert_exporter": "python",
   "pygments_lexer": "ipython3",
   "version": "3.8.8"
  }
 },
 "nbformat": 4,
 "nbformat_minor": 5
}
