{
 "cells": [
  {
   "cell_type": "markdown",
   "id": "9ffa355a",
   "metadata": {},
   "source": [
    "# Problem: OOPs\n",
    "1.\tGo step by step:\n",
    "A.\tCreate a class named (Car)\n",
    "B.\tCall constructor\n",
    "C.\tCreate 3 attributes under that (name, price, colour)\n",
    "D.\tCreate 3 functions - 1. sound 2. speed 3. display (to display 1 and 2 fuctions)\n",
    "E.\tCreate a child class named (Thar) and inherite Car\n",
    "F.\tCreate two objects under that child class and access the functions for them.\n"
   ]
  },
  {
   "cell_type": "code",
   "execution_count": 2,
   "id": "d4053de1",
   "metadata": {},
   "outputs": [],
   "source": [
    "class Car:\n",
    "    def __init__(self,name,price,color):\n",
    "        self.name=name\n",
    "        self.price=price\n",
    "        self.color=color\n",
    "        \n",
    "    def sound(self):\n",
    "        return \"the sound of {} is like .....\".format(self.name)\n",
    "    def speed(self):\n",
    "        return \"the max spped of {} is 100km/hr\".format(self.name)\n",
    "    def display(self):\n",
    "        print(self.sound())\n",
    "        print(self.speed())"
   ]
  },
  {
   "cell_type": "code",
   "execution_count": 3,
   "id": "e82d015c",
   "metadata": {},
   "outputs": [],
   "source": [
    "class Thar(Car):\n",
    "    def sound(self):\n",
    "        return \"the sound of {} is like Vroom Vroom!\".format(self.name)\n",
    "    def speed(self):\n",
    "        return \"the max spped of {} is 155km/hr\".format(self.name)"
   ]
  },
  {
   "cell_type": "code",
   "execution_count": 5,
   "id": "cbe4c6c1",
   "metadata": {},
   "outputs": [],
   "source": [
    "thar1=Thar(\"Thar1\",1500000,\"Black\")\n",
    "thar2=Thar(\"Thar2\",1800000,\"Red\")"
   ]
  },
  {
   "cell_type": "code",
   "execution_count": 10,
   "id": "e0357674",
   "metadata": {},
   "outputs": [
    {
     "name": "stdout",
     "output_type": "stream",
     "text": [
      "the sound of Thar1 is like Vroom Vroom!\n",
      "the max spped of Thar1 is 155km/hr\n"
     ]
    }
   ],
   "source": [
    "thar1.display()"
   ]
  },
  {
   "cell_type": "code",
   "execution_count": 7,
   "id": "98bf8e2e",
   "metadata": {},
   "outputs": [
    {
     "name": "stdout",
     "output_type": "stream",
     "text": [
      "the sound of Thar2 is like Vroom Vroom!\n",
      "the max spped of Thar2 is 155km/hr\n"
     ]
    }
   ],
   "source": [
    "thar2.display()"
   ]
  },
  {
   "cell_type": "markdown",
   "id": "6031a5b4",
   "metadata": {},
   "source": [
    "# Problem: Try and Except\n",
    "Create an Except where we can catch all the “zero division error” (you can customize your print statements ). \n"
   ]
  },
  {
   "cell_type": "code",
   "execution_count": 32,
   "id": "b4c5f30f",
   "metadata": {},
   "outputs": [],
   "source": [
    "def divission():\n",
    "    x=float(input(\"numerator = \"))\n",
    "    y=float(input(\"denominator = \"))\n",
    "    try:\n",
    "        result=x/y\n",
    "        print(result)\n",
    "        \n",
    "    except ZeroDivisionError as e:\n",
    "        print(\"Error :\",e)"
   ]
  },
  {
   "cell_type": "code",
   "execution_count": 33,
   "id": "9c7094d2",
   "metadata": {},
   "outputs": [
    {
     "name": "stdout",
     "output_type": "stream",
     "text": [
      "numerator = 10\n",
      "denominator = 0\n",
      "Error : float division by zero\n"
     ]
    }
   ],
   "source": [
    "divission()"
   ]
  },
  {
   "cell_type": "code",
   "execution_count": null,
   "id": "63976242",
   "metadata": {},
   "outputs": [],
   "source": []
  },
  {
   "cell_type": "code",
   "execution_count": null,
   "id": "44ee584e",
   "metadata": {},
   "outputs": [],
   "source": []
  },
  {
   "cell_type": "code",
   "execution_count": null,
   "id": "5df68f76",
   "metadata": {},
   "outputs": [],
   "source": []
  },
  {
   "cell_type": "code",
   "execution_count": null,
   "id": "50907223",
   "metadata": {},
   "outputs": [],
   "source": []
  },
  {
   "cell_type": "code",
   "execution_count": null,
   "id": "6dd30b34",
   "metadata": {},
   "outputs": [],
   "source": []
  },
  {
   "cell_type": "code",
   "execution_count": null,
   "id": "5cfe41ac",
   "metadata": {},
   "outputs": [],
   "source": []
  },
  {
   "cell_type": "code",
   "execution_count": null,
   "id": "5b5db5d4",
   "metadata": {},
   "outputs": [],
   "source": []
  },
  {
   "cell_type": "code",
   "execution_count": null,
   "id": "19d1f5bf",
   "metadata": {},
   "outputs": [],
   "source": []
  }
 ],
 "metadata": {
  "kernelspec": {
   "display_name": "Python 3",
   "language": "python",
   "name": "python3"
  },
  "language_info": {
   "codemirror_mode": {
    "name": "ipython",
    "version": 3
   },
   "file_extension": ".py",
   "mimetype": "text/x-python",
   "name": "python",
   "nbconvert_exporter": "python",
   "pygments_lexer": "ipython3",
   "version": "3.8.8"
  }
 },
 "nbformat": 4,
 "nbformat_minor": 5
}
