{
 "cells": [
  {
   "cell_type": "markdown",
   "id": "ad88aedf",
   "metadata": {},
   "source": [
    "# Python"
   ]
  },
  {
   "cell_type": "markdown",
   "id": "8fa37715",
   "metadata": {},
   "source": [
    "# 1.Write a program using list comprehension to find primes in range 2 to 100."
   ]
  },
  {
   "cell_type": "code",
   "execution_count": 18,
   "id": "bea63e85",
   "metadata": {},
   "outputs": [],
   "source": [
    "list=range(2,101)"
   ]
  },
  {
   "cell_type": "code",
   "execution_count": 24,
   "id": "77dea9f6",
   "metadata": {},
   "outputs": [],
   "source": [
    "prime_list=[]\n",
    "for i in list:\n",
    "    n=0\n",
    "    for j in range(1,i+1):\n",
    "        if i%j==0:\n",
    "            n+=1\n",
    "        if n>2:\n",
    "            break;\n",
    "\n",
    "    if(n==2):\n",
    "        prime_list.append(i)\n",
    "            "
   ]
  },
  {
   "cell_type": "code",
   "execution_count": 25,
   "id": "36e07ac9",
   "metadata": {},
   "outputs": [
    {
     "data": {
      "text/plain": [
       "[2,\n",
       " 3,\n",
       " 5,\n",
       " 7,\n",
       " 11,\n",
       " 13,\n",
       " 17,\n",
       " 19,\n",
       " 23,\n",
       " 29,\n",
       " 31,\n",
       " 37,\n",
       " 41,\n",
       " 43,\n",
       " 47,\n",
       " 53,\n",
       " 59,\n",
       " 61,\n",
       " 67,\n",
       " 71,\n",
       " 73,\n",
       " 79,\n",
       " 83,\n",
       " 89,\n",
       " 97]"
      ]
     },
     "execution_count": 25,
     "metadata": {},
     "output_type": "execute_result"
    }
   ],
   "source": [
    "prime_list"
   ]
  },
  {
   "cell_type": "code",
   "execution_count": 26,
   "id": "99879114",
   "metadata": {},
   "outputs": [
    {
     "data": {
      "text/plain": [
       "25"
      ]
     },
     "execution_count": 26,
     "metadata": {},
     "output_type": "execute_result"
    }
   ],
   "source": [
    "len(prime_list)"
   ]
  },
  {
   "cell_type": "code",
   "execution_count": null,
   "id": "258fc143",
   "metadata": {},
   "outputs": [],
   "source": []
  },
  {
   "cell_type": "markdown",
   "id": "018a2d33",
   "metadata": {},
   "source": [
    "# 2.Write a function to reverse a string"
   ]
  },
  {
   "cell_type": "markdown",
   "id": "50a6925b",
   "metadata": {},
   "source": [
    "# string='reverse a string'"
   ]
  },
  {
   "cell_type": "code",
   "execution_count": 66,
   "id": "cf4356b0",
   "metadata": {},
   "outputs": [],
   "source": [
    "def reverse_string(string):\n",
    "    list=[]\n",
    "    list.extend(string)\n",
    "    re_string=''\n",
    "    for i in list[-1::-1]:\n",
    "        p=str(i)\n",
    "        re_string=re_string+p\n",
    "    return(re_string)"
   ]
  },
  {
   "cell_type": "code",
   "execution_count": 71,
   "id": "5cc96b81",
   "metadata": {},
   "outputs": [
    {
     "data": {
      "text/plain": [
       "'sawsib kihsuok'"
      ]
     },
     "execution_count": 71,
     "metadata": {},
     "output_type": "execute_result"
    }
   ],
   "source": [
    "reverse_string('koushik biswas')"
   ]
  },
  {
   "cell_type": "code",
   "execution_count": null,
   "id": "06d2a3fc",
   "metadata": {},
   "outputs": [],
   "source": []
  },
  {
   "cell_type": "code",
   "execution_count": 82,
   "id": "f58063e9",
   "metadata": {},
   "outputs": [],
   "source": [
    "#another simple function\n",
    "\n",
    "def re_string(input):\n",
    "    if type(input)==int:\n",
    "        print(\"Enter a string type value\")\n",
    "    else:\n",
    "        return input[::-1]"
   ]
  },
  {
   "cell_type": "code",
   "execution_count": 83,
   "id": "b11433f9",
   "metadata": {},
   "outputs": [
    {
     "data": {
      "text/plain": [
       "'kihsuok'"
      ]
     },
     "execution_count": 83,
     "metadata": {},
     "output_type": "execute_result"
    }
   ],
   "source": [
    "re_string('koushik')"
   ]
  },
  {
   "cell_type": "code",
   "execution_count": null,
   "id": "e3a04699",
   "metadata": {},
   "outputs": [],
   "source": []
  },
  {
   "cell_type": "code",
   "execution_count": null,
   "id": "5f51339d",
   "metadata": {},
   "outputs": [],
   "source": []
  },
  {
   "cell_type": "markdown",
   "id": "493b9f78",
   "metadata": {},
   "source": [
    " # 3.Write a program to extract the words from the given list which have their first character in uppercase. Days = ['Monday', 'tuesday','friday', 'Sunday', 'Saturday']   Output: ['Monday', 'Sunday', 'Saturday']"
   ]
  },
  {
   "cell_type": "code",
   "execution_count": 85,
   "id": "0d1f9d90",
   "metadata": {},
   "outputs": [],
   "source": [
    "Days = ['Monday', 'tuesday','friday', 'Sunday', 'Saturday']"
   ]
  },
  {
   "cell_type": "code",
   "execution_count": 86,
   "id": "0ccf1f94",
   "metadata": {},
   "outputs": [],
   "source": [
    "output=[]\n",
    "for i in Days:\n",
    "    if i[0].isupper():\n",
    "        output.append(i)\n",
    "    "
   ]
  },
  {
   "cell_type": "code",
   "execution_count": 87,
   "id": "2efb660d",
   "metadata": {},
   "outputs": [
    {
     "data": {
      "text/plain": [
       "['Monday', 'Sunday', 'Saturday']"
      ]
     },
     "execution_count": 87,
     "metadata": {},
     "output_type": "execute_result"
    }
   ],
   "source": [
    "output"
   ]
  },
  {
   "cell_type": "code",
   "execution_count": null,
   "id": "3a92d738",
   "metadata": {},
   "outputs": [],
   "source": []
  },
  {
   "cell_type": "code",
   "execution_count": null,
   "id": "53a03c37",
   "metadata": {},
   "outputs": [],
   "source": []
  },
  {
   "cell_type": "markdown",
   "id": "3fc0632a",
   "metadata": {},
   "source": [
    "# 5.Write a program swap the keys to values and values to keys of the given dictionary. Module = {'Data Science':1,'Machine Learning':2, 'SQL':3, 'Big Data':4} Output: {1:'Data Science',2:'Machine Learning', 3:'SQL', 4:'Big Data'}"
   ]
  },
  {
   "cell_type": "code",
   "execution_count": 2,
   "id": "84f82c00",
   "metadata": {},
   "outputs": [],
   "source": [
    "Module = {'Data Science':1,'Machine Learning':2, 'SQL':3, 'Big Data':4}"
   ]
  },
  {
   "cell_type": "code",
   "execution_count": 7,
   "id": "4cce5939",
   "metadata": {},
   "outputs": [
    {
     "data": {
      "text/plain": [
       "dict_keys(['Data Science', 'Machine Learning', 'SQL', 'Big Data'])"
      ]
     },
     "execution_count": 7,
     "metadata": {},
     "output_type": "execute_result"
    }
   ],
   "source": [
    "Module.keys()"
   ]
  },
  {
   "cell_type": "code",
   "execution_count": 18,
   "id": "e7d12ef4",
   "metadata": {},
   "outputs": [
    {
     "data": {
      "text/plain": [
       "dict_values([1, 2, 3, 4])"
      ]
     },
     "execution_count": 18,
     "metadata": {},
     "output_type": "execute_result"
    }
   ],
   "source": [
    "Module.values()"
   ]
  },
  {
   "cell_type": "code",
   "execution_count": 24,
   "id": "99cf02ea",
   "metadata": {},
   "outputs": [
    {
     "name": "stdout",
     "output_type": "stream",
     "text": [
      "Data Science\n",
      "1\n",
      "Machine Learning\n",
      "2\n",
      "SQL\n",
      "3\n",
      "Big Data\n",
      "4\n"
     ]
    }
   ],
   "source": [
    "for key , value in Module.items(): \n",
    "    print(key)\n",
    "    print(value)"
   ]
  },
  {
   "cell_type": "code",
   "execution_count": 26,
   "id": "2fc2afcf",
   "metadata": {},
   "outputs": [],
   "source": [
    "output={}\n",
    "for key , value in Module.items():\n",
    "    output[value]=key"
   ]
  },
  {
   "cell_type": "code",
   "execution_count": 27,
   "id": "6cac5f7c",
   "metadata": {},
   "outputs": [
    {
     "data": {
      "text/plain": [
       "{1: 'Data Science', 2: 'Machine Learning', 3: 'SQL', 4: 'Big Data'}"
      ]
     },
     "execution_count": 27,
     "metadata": {},
     "output_type": "execute_result"
    }
   ],
   "source": [
    "output"
   ]
  },
  {
   "cell_type": "code",
   "execution_count": null,
   "id": "13e86f50",
   "metadata": {},
   "outputs": [],
   "source": []
  },
  {
   "cell_type": "code",
   "execution_count": null,
   "id": "5cc13440",
   "metadata": {},
   "outputs": [],
   "source": []
  },
  {
   "cell_type": "code",
   "execution_count": null,
   "id": "6bcda571",
   "metadata": {},
   "outputs": [],
   "source": []
  },
  {
   "cell_type": "markdown",
   "id": "99c46d7d",
   "metadata": {},
   "source": [
    "# 6.Write a program to count the number of elements in the string (given by the user) that are not present in the 'my_string'. Do not count the white spaces. my_string = 'Data Science'"
   ]
  },
  {
   "cell_type": "code",
   "execution_count": 99,
   "id": "aa1d0b0f",
   "metadata": {},
   "outputs": [
    {
     "name": "stdout",
     "output_type": "stream",
     "text": [
      "INPUT A STRING: Data Science\n",
      "Number of elements in the user_string not present in my_string: 0\n"
     ]
    }
   ],
   "source": [
    "user_string=input(\"INPUT A STRING: \")\n",
    "x=set(my_string.lower().replace(\" \",''))\n",
    "y=set(user_string.lower().replace(\" \",''))\n",
    "print(\"Number of elements in the user_string not present in my_string:\",len(y-x))"
   ]
  },
  {
   "cell_type": "code",
   "execution_count": null,
   "id": "c2668f24",
   "metadata": {},
   "outputs": [],
   "source": []
  },
  {
   "cell_type": "code",
   "execution_count": null,
   "id": "b06572fa",
   "metadata": {},
   "outputs": [],
   "source": []
  },
  {
   "cell_type": "markdown",
   "id": "9d8337ba",
   "metadata": {},
   "source": [
    "# 7.Define a function to check whether a number is in a range (1000,10000) or not."
   ]
  },
  {
   "cell_type": "code",
   "execution_count": 40,
   "id": "e3a1c4ae",
   "metadata": {},
   "outputs": [],
   "source": [
    "def range_fun(number):\n",
    "    if number>1000 and number<10000:\n",
    "        print(\"The given number:\",number,\"is belong to the range(1000,10000)\")\n",
    "        \n",
    "    else:\n",
    "        print(\"The given number:\",number,\"is not belong to the range(1000,10000)\")"
   ]
  },
  {
   "cell_type": "code",
   "execution_count": 42,
   "id": "03664f7f",
   "metadata": {},
   "outputs": [
    {
     "name": "stdout",
     "output_type": "stream",
     "text": [
      "The given number: 1200 is belong to the range(1000,10000)\n"
     ]
    }
   ],
   "source": [
    "range_fun(1200)"
   ]
  },
  {
   "cell_type": "code",
   "execution_count": 43,
   "id": "7c317846",
   "metadata": {},
   "outputs": [
    {
     "name": "stdout",
     "output_type": "stream",
     "text": [
      "The given number: 100 is not belong to the range(1000,10000)\n"
     ]
    }
   ],
   "source": [
    "range_fun(100)"
   ]
  },
  {
   "cell_type": "code",
   "execution_count": null,
   "id": "41f91ddd",
   "metadata": {},
   "outputs": [],
   "source": []
  },
  {
   "cell_type": "markdown",
   "id": "79ecb88b",
   "metadata": {},
   "source": [
    "# 8.Write a program to calculate the sum of all elements in the list.       test_score = [10, 32, 23, 14, 25]"
   ]
  },
  {
   "cell_type": "code",
   "execution_count": 44,
   "id": "966743cc",
   "metadata": {},
   "outputs": [],
   "source": [
    "test_score = [10, 32, 23, 14, 25]"
   ]
  },
  {
   "cell_type": "code",
   "execution_count": 45,
   "id": "90d834f1",
   "metadata": {},
   "outputs": [
    {
     "name": "stdout",
     "output_type": "stream",
     "text": [
      "sum of the all values in test_score is = 104\n"
     ]
    }
   ],
   "source": [
    "sum=0\n",
    "for i in test_score:\n",
    "    sum=sum+i\n",
    "    \n",
    "print(\"sum of the all values in test_score is =\",sum)"
   ]
  },
  {
   "cell_type": "code",
   "execution_count": null,
   "id": "d39b37a2",
   "metadata": {},
   "outputs": [],
   "source": []
  },
  {
   "cell_type": "markdown",
   "id": "d083692d",
   "metadata": {},
   "source": [
    "# 9.Replace all even numbers in the array with -1.Use the array given below num_array = np.array([0, 21, 32, 13, 44, 45, 26, 28, 38, 34, 65, 48, 76])"
   ]
  },
  {
   "cell_type": "code",
   "execution_count": 62,
   "id": "176a41a7",
   "metadata": {},
   "outputs": [],
   "source": [
    "import numpy as np"
   ]
  },
  {
   "cell_type": "code",
   "execution_count": 63,
   "id": "642b1a65",
   "metadata": {},
   "outputs": [],
   "source": [
    "num_array = np.array([0, 21, 32, 13, 44, 45, 26, 28, 38, 34, 65, 48, 76])"
   ]
  },
  {
   "cell_type": "code",
   "execution_count": 64,
   "id": "0673e1e2",
   "metadata": {},
   "outputs": [
    {
     "data": {
      "text/plain": [
       "21"
      ]
     },
     "execution_count": 64,
     "metadata": {},
     "output_type": "execute_result"
    }
   ],
   "source": [
    "num_array[1]"
   ]
  },
  {
   "cell_type": "code",
   "execution_count": null,
   "id": "d7a6a90b",
   "metadata": {},
   "outputs": [],
   "source": []
  },
  {
   "cell_type": "code",
   "execution_count": 65,
   "id": "66c79eb3",
   "metadata": {},
   "outputs": [
    {
     "data": {
      "text/plain": [
       "array([ 0, -1, 32, -1, 44, -1, 26, -1, 38, -1, 65, -1, 76])"
      ]
     },
     "execution_count": 65,
     "metadata": {},
     "output_type": "execute_result"
    }
   ],
   "source": [
    "for j in range(0,len(num_array)):\n",
    "    if j%2==1:\n",
    "        num_array[j]=-1\n",
    "            \n",
    "num_array"
   ]
  },
  {
   "cell_type": "code",
   "execution_count": null,
   "id": "e954b0b8",
   "metadata": {},
   "outputs": [],
   "source": []
  },
  {
   "cell_type": "markdown",
   "id": "2e36cc99",
   "metadata": {},
   "source": [
    "# 10.Find the minimum value along each of the rows. Create a 2D Numpy array from list of lists Score = np.array([[210, 402, 383], [140, 375, 106], [140, 125, 217], [292, 240, 295]])"
   ]
  },
  {
   "cell_type": "code",
   "execution_count": 67,
   "id": "a08b0b0e",
   "metadata": {},
   "outputs": [],
   "source": [
    "Score = np.array([[210, 402, 383], [140, 375, 106], [140, 125, 217], [292, 240, 295]])"
   ]
  },
  {
   "cell_type": "code",
   "execution_count": 68,
   "id": "97ce92c2",
   "metadata": {},
   "outputs": [
    {
     "data": {
      "text/plain": [
       "array([[210, 402, 383],\n",
       "       [140, 375, 106],\n",
       "       [140, 125, 217],\n",
       "       [292, 240, 295]])"
      ]
     },
     "execution_count": 68,
     "metadata": {},
     "output_type": "execute_result"
    }
   ],
   "source": [
    "Score"
   ]
  },
  {
   "cell_type": "code",
   "execution_count": 76,
   "id": "579e3da3",
   "metadata": {},
   "outputs": [
    {
     "data": {
      "text/plain": [
       "array([210, 402, 383])"
      ]
     },
     "execution_count": 76,
     "metadata": {},
     "output_type": "execute_result"
    }
   ],
   "source": [
    "Score[0]"
   ]
  },
  {
   "cell_type": "code",
   "execution_count": 75,
   "id": "12b62ed6",
   "metadata": {},
   "outputs": [
    {
     "data": {
      "text/plain": [
       "210"
      ]
     },
     "execution_count": 75,
     "metadata": {},
     "output_type": "execute_result"
    }
   ],
   "source": [
    "Score[0].min()"
   ]
  },
  {
   "cell_type": "code",
   "execution_count": 72,
   "id": "4ea15e67",
   "metadata": {},
   "outputs": [
    {
     "data": {
      "text/plain": [
       "4"
      ]
     },
     "execution_count": 72,
     "metadata": {},
     "output_type": "execute_result"
    }
   ],
   "source": [
    "len(Score)"
   ]
  },
  {
   "cell_type": "code",
   "execution_count": 80,
   "id": "ad3cf26d",
   "metadata": {},
   "outputs": [
    {
     "name": "stdout",
     "output_type": "stream",
     "text": [
      "The minimum value of [210 402 383] = 210\n",
      "The minimum value of [140 375 106] = 106\n",
      "The minimum value of [140 125 217] = 125\n",
      "The minimum value of [292 240 295] = 240\n"
     ]
    }
   ],
   "source": [
    "for i in range(0,len(Score)):\n",
    "    min=Score[i].min()\n",
    "    print(\"The minimum value of\",Score[i],\"=\",min)"
   ]
  },
  {
   "cell_type": "code",
   "execution_count": 83,
   "id": "2029c5b7",
   "metadata": {},
   "outputs": [
    {
     "data": {
      "text/plain": [
       "array([[210, 402, 383],\n",
       "       [140, 375, 106],\n",
       "       [140, 125, 217],\n",
       "       [292, 240, 295]])"
      ]
     },
     "execution_count": 83,
     "metadata": {},
     "output_type": "execute_result"
    }
   ],
   "source": [
    "list=[[210, 402, 383], [140, 375, 106], [140, 125, 217], [292, 240, 295]]\n",
    "array_2D=np.array(list)\n",
    "array_2D"
   ]
  },
  {
   "cell_type": "code",
   "execution_count": null,
   "id": "dca3a963",
   "metadata": {},
   "outputs": [],
   "source": []
  },
  {
   "cell_type": "code",
   "execution_count": null,
   "id": "a6c94a96",
   "metadata": {},
   "outputs": [],
   "source": []
  },
  {
   "cell_type": "code",
   "execution_count": null,
   "id": "3f06131d",
   "metadata": {},
   "outputs": [],
   "source": []
  },
  {
   "cell_type": "code",
   "execution_count": null,
   "id": "563c51ab",
   "metadata": {},
   "outputs": [],
   "source": []
  },
  {
   "cell_type": "code",
   "execution_count": null,
   "id": "c5bce44a",
   "metadata": {},
   "outputs": [],
   "source": []
  },
  {
   "cell_type": "code",
   "execution_count": null,
   "id": "d41451b4",
   "metadata": {},
   "outputs": [],
   "source": []
  },
  {
   "cell_type": "code",
   "execution_count": null,
   "id": "74162989",
   "metadata": {},
   "outputs": [],
   "source": []
  }
 ],
 "metadata": {
  "kernelspec": {
   "display_name": "Python 3",
   "language": "python",
   "name": "python3"
  },
  "language_info": {
   "codemirror_mode": {
    "name": "ipython",
    "version": 3
   },
   "file_extension": ".py",
   "mimetype": "text/x-python",
   "name": "python",
   "nbconvert_exporter": "python",
   "pygments_lexer": "ipython3",
   "version": "3.8.8"
  }
 },
 "nbformat": 4,
 "nbformat_minor": 5
}
