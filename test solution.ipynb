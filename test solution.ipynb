{
 "cells": [
  {
   "cell_type": "code",
   "execution_count": 4,
   "id": "4f862791",
   "metadata": {},
   "outputs": [
    {
     "name": "stdout",
     "output_type": "stream",
     "text": [
      "\n",
      "Welcome to the Basic Library Management System!\n",
      "\n",
      "1. Display Available Books\n",
      "2. Borrow a Book\n",
      "3. Return a Book\n",
      "4. Exit\n",
      "\n",
      "Enter your choice (1-4): 1\n",
      "\n",
      "Available Books:\n",
      "Book1 - 5 available\n",
      "Book2 - 3 available\n",
      "Book3 - 7 available\n",
      "Book4 - 2 available\n",
      "Book5 - 4 available\n",
      "\n",
      "Welcome to the Basic Library Management System!\n",
      "\n",
      "1. Display Available Books\n",
      "2. Borrow a Book\n",
      "3. Return a Book\n",
      "4. Exit\n",
      "\n",
      "Enter your choice (1-4): 2\n",
      "Enter the title of the book you want to borrow: Book1\n",
      "Enter the quantity you want to borrow: 2\n",
      "You have borrowed 2 copy(ies) of Book1.\n",
      "\n",
      "Welcome to the Basic Library Management System!\n",
      "\n",
      "1. Display Available Books\n",
      "2. Borrow a Book\n",
      "3. Return a Book\n",
      "4. Exit\n",
      "\n",
      "Enter your choice (1-4): 3\n",
      "Enter the title of the book you want to return: Book1\n",
      "Enter the quantity you want to return: 1\n",
      "You have returned 1 copy(ies) of Book1.\n",
      "\n",
      "Welcome to the Basic Library Management System!\n",
      "\n",
      "1. Display Available Books\n",
      "2. Borrow a Book\n",
      "3. Return a Book\n",
      "4. Exit\n",
      "\n",
      "Enter your choice (1-4): 4\n",
      "\n",
      "Exiting the Library Management System. Thank you!\n"
     ]
    }
   ],
   "source": [
    "library = {\n",
    "    'Book1': 5,\n",
    "    'Book2': 3,\n",
    "    'Book3': 7,\n",
    "    'Book4': 2,\n",
    "    'Book5': 4\n",
    "}\n",
    "\n",
    "def display_books():\n",
    "    print(\"\\nAvailable Books:\")\n",
    "    for title, quantity in library.items():\n",
    "        print(f\"{title} - {quantity} available\")\n",
    "\n",
    "def borrow_book():\n",
    "    title = input(\"Enter the title of the book you want to borrow: \")\n",
    "    if title in library_inventory:\n",
    "        quantity = int(input(\"Enter the quantity you want to borrow: \"))\n",
    "        if quantity <= library_inventory[title]:\n",
    "            library_inventory[title] -= quantity\n",
    "            print(f\"You have borrowed {quantity} copy(ies) of {title}.\")\n",
    "        else:\n",
    "            print(f\"Sorry, only {library_inventory[title]} copy(ies) of {title} available.\")\n",
    "    else:\n",
    "        print(f\"Book with title '{title}' not found in the inventory.\")\n",
    "\n",
    "def return_book():\n",
    "    title = input(\"Enter the title of the book you want to return: \")\n",
    "    if title in library_inventory:\n",
    "        quantity = int(input(\"Enter the quantity you want to return: \"))\n",
    "        library_inventory[title] += quantity\n",
    "        print(f\"You have returned {quantity} copy(ies) of {title}.\")\n",
    "    else:\n",
    "        print(f\"Book with title '{title}' not found in the inventory.\")\n",
    "\n",
    "while True:\n",
    "    print(\"\\nWelcome to the Basic Library Management System!\\n\")\n",
    "    print(\"1. Display Available Books\")\n",
    "    print(\"2. Borrow a Book\")\n",
    "    print(\"3. Return a Book\")\n",
    "    print(\"4. Exit\\n\")\n",
    "\n",
    "    choice = input(\"Enter your choice (1-4): \")\n",
    "\n",
    "    if choice == '1':\n",
    "        display_books()\n",
    "    elif choice == '2':\n",
    "        borrow_book()\n",
    "    elif choice == '3':\n",
    "        return_book()\n",
    "    elif choice == '4':\n",
    "        print(\"\\nExiting the Library Management System. Thank you!\")\n",
    "        break\n",
    "    else:\n",
    "        print(\"\\nInvalid choice. Please enter a number between 1 and 4.\")\n"
   ]
  },
  {
   "cell_type": "code",
   "execution_count": null,
   "id": "2845f196",
   "metadata": {},
   "outputs": [],
   "source": []
  },
  {
   "cell_type": "code",
   "execution_count": null,
   "id": "a437cbd0",
   "metadata": {},
   "outputs": [],
   "source": []
  },
  {
   "cell_type": "code",
   "execution_count": null,
   "id": "e89936bf",
   "metadata": {},
   "outputs": [],
   "source": []
  },
  {
   "cell_type": "code",
   "execution_count": null,
   "id": "1711aea8",
   "metadata": {},
   "outputs": [],
   "source": []
  },
  {
   "cell_type": "code",
   "execution_count": null,
   "id": "5fd17504",
   "metadata": {},
   "outputs": [],
   "source": []
  },
  {
   "cell_type": "code",
   "execution_count": null,
   "id": "182a0a34",
   "metadata": {},
   "outputs": [],
   "source": []
  },
  {
   "cell_type": "code",
   "execution_count": null,
   "id": "e2444e8e",
   "metadata": {},
   "outputs": [],
   "source": []
  },
  {
   "cell_type": "code",
   "execution_count": null,
   "id": "648cbe36",
   "metadata": {},
   "outputs": [],
   "source": []
  },
  {
   "cell_type": "code",
   "execution_count": null,
   "id": "8078ab57",
   "metadata": {},
   "outputs": [],
   "source": []
  },
  {
   "cell_type": "code",
   "execution_count": null,
   "id": "cd09a4d2",
   "metadata": {},
   "outputs": [],
   "source": []
  },
  {
   "cell_type": "code",
   "execution_count": null,
   "id": "26af8c58",
   "metadata": {},
   "outputs": [],
   "source": []
  },
  {
   "cell_type": "code",
   "execution_count": null,
   "id": "f6ff74e9",
   "metadata": {},
   "outputs": [],
   "source": []
  },
  {
   "cell_type": "code",
   "execution_count": null,
   "id": "d11950cb",
   "metadata": {},
   "outputs": [],
   "source": []
  },
  {
   "cell_type": "code",
   "execution_count": null,
   "id": "03fc883c",
   "metadata": {},
   "outputs": [],
   "source": []
  },
  {
   "cell_type": "code",
   "execution_count": null,
   "id": "8477c0c9",
   "metadata": {},
   "outputs": [],
   "source": []
  },
  {
   "cell_type": "code",
   "execution_count": null,
   "id": "edeb808a",
   "metadata": {},
   "outputs": [],
   "source": []
  },
  {
   "cell_type": "code",
   "execution_count": null,
   "id": "0c255092",
   "metadata": {},
   "outputs": [],
   "source": []
  },
  {
   "cell_type": "code",
   "execution_count": null,
   "id": "50663b30",
   "metadata": {},
   "outputs": [],
   "source": []
  },
  {
   "cell_type": "code",
   "execution_count": null,
   "id": "09773b54",
   "metadata": {},
   "outputs": [],
   "source": []
  },
  {
   "cell_type": "code",
   "execution_count": null,
   "id": "0d5df7a8",
   "metadata": {},
   "outputs": [],
   "source": []
  },
  {
   "cell_type": "code",
   "execution_count": null,
   "id": "73f3cdb3",
   "metadata": {},
   "outputs": [],
   "source": []
  },
  {
   "cell_type": "code",
   "execution_count": null,
   "id": "02191f32",
   "metadata": {},
   "outputs": [],
   "source": []
  },
  {
   "cell_type": "code",
   "execution_count": null,
   "id": "045cbdc7",
   "metadata": {},
   "outputs": [],
   "source": []
  }
 ],
 "metadata": {
  "kernelspec": {
   "display_name": "Python 3",
   "language": "python",
   "name": "python3"
  },
  "language_info": {
   "codemirror_mode": {
    "name": "ipython",
    "version": 3
   },
   "file_extension": ".py",
   "mimetype": "text/x-python",
   "name": "python",
   "nbconvert_exporter": "python",
   "pygments_lexer": "ipython3",
   "version": "3.8.8"
  }
 },
 "nbformat": 4,
 "nbformat_minor": 5
}
